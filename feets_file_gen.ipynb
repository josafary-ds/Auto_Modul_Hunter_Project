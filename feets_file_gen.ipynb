{
 "cells": [
  {
   "cell_type": "code",
   "execution_count": 1,
   "metadata": {},
   "outputs": [],
   "source": [
    "import pandas as pd\n",
    "import numpy as np\n",
    "import os\n",
    "import feets\n",
    "import warnings"
   ]
  },
  {
   "cell_type": "markdown",
   "metadata": {},
   "source": [
    "## Application test with 1 light curve"
   ]
  },
  {
   "cell_type": "code",
   "execution_count": 2,
   "metadata": {},
   "outputs": [
    {
     "data": {
      "text/html": [
       "<div>\n",
       "<style scoped>\n",
       "    .dataframe tbody tr th:only-of-type {\n",
       "        vertical-align: middle;\n",
       "    }\n",
       "\n",
       "    .dataframe tbody tr th {\n",
       "        vertical-align: top;\n",
       "    }\n",
       "\n",
       "    .dataframe thead th {\n",
       "        text-align: right;\n",
       "    }\n",
       "</style>\n",
       "<table border=\"1\" class=\"dataframe\">\n",
       "  <thead>\n",
       "    <tr style=\"text-align: right;\">\n",
       "      <th></th>\n",
       "      <th>time</th>\n",
       "      <th>flux</th>\n",
       "    </tr>\n",
       "  </thead>\n",
       "  <tbody>\n",
       "    <tr>\n",
       "      <th>0</th>\n",
       "      <td>1900.414603</td>\n",
       "      <td>0.955040</td>\n",
       "    </tr>\n",
       "    <tr>\n",
       "      <th>1</th>\n",
       "      <td>1900.415992</td>\n",
       "      <td>1.013595</td>\n",
       "    </tr>\n",
       "    <tr>\n",
       "      <th>2</th>\n",
       "      <td>1900.417381</td>\n",
       "      <td>0.996042</td>\n",
       "    </tr>\n",
       "    <tr>\n",
       "      <th>3</th>\n",
       "      <td>1900.418770</td>\n",
       "      <td>1.031510</td>\n",
       "    </tr>\n",
       "    <tr>\n",
       "      <th>4</th>\n",
       "      <td>1900.420158</td>\n",
       "      <td>0.972890</td>\n",
       "    </tr>\n",
       "  </tbody>\n",
       "</table>\n",
       "</div>"
      ],
      "text/plain": [
       "          time      flux\n",
       "0  1900.414603  0.955040\n",
       "1  1900.415992  1.013595\n",
       "2  1900.417381  0.996042\n",
       "3  1900.418770  1.031510\n",
       "4  1900.420158  0.972890"
      ]
     },
     "execution_count": 2,
     "metadata": {},
     "output_type": "execute_result"
    }
   ],
   "source": [
    "df = pd.read_csv('../LightCurves/001152358_22.dat', sep=' ', header=None, names=['time', 'flux'])\n",
    "df.head()"
   ]
  },
  {
   "cell_type": "code",
   "execution_count": 4,
   "metadata": {},
   "outputs": [],
   "source": [
    "time, flux = (df.time, df.flux)\n",
    "lc_feets = [time, flux]"
   ]
  },
  {
   "cell_type": "code",
   "execution_count": 5,
   "metadata": {},
   "outputs": [
    {
     "name": "stderr",
     "output_type": "stream",
     "text": [
      "WARNING: AstropyDeprecationWarning: Importing LombScargle from astropy.stats has been deprecated and will no longer be supported in future. Please import this class from the astropy.timeseries module instead [astropy.stats.lombscargle]\n"
     ]
    },
    {
     "name": "stdout",
     "output_type": "stream",
     "text": [
      "Wall time: 9.31 s\n"
     ]
    },
    {
     "data": {
      "text/html": [
       "<div>\n",
       "<style scoped>\n",
       "    .dataframe tbody tr th:only-of-type {\n",
       "        vertical-align: middle;\n",
       "    }\n",
       "\n",
       "    .dataframe tbody tr th {\n",
       "        vertical-align: top;\n",
       "    }\n",
       "\n",
       "    .dataframe thead tr th {\n",
       "        text-align: left;\n",
       "    }\n",
       "</style>\n",
       "<table border=\"1\" class=\"dataframe\">\n",
       "  <thead>\n",
       "    <tr>\n",
       "      <th></th>\n",
       "      <th>Amplitude</th>\n",
       "      <th>Eta_e</th>\n",
       "      <th>LinearTrend</th>\n",
       "      <th>Mean</th>\n",
       "      <th>Meanvariance</th>\n",
       "      <th>MedianAbsDev</th>\n",
       "      <th>PercentAmplitude</th>\n",
       "      <th>PeriodLS</th>\n",
       "      <th>Period_fit</th>\n",
       "      <th>Psi_CS</th>\n",
       "      <th>Psi_eta</th>\n",
       "      <th>Std</th>\n",
       "    </tr>\n",
       "  </thead>\n",
       "  <tbody>\n",
       "    <tr>\n",
       "      <th>0</th>\n",
       "      <td>0.038367</td>\n",
       "      <td>2.781633</td>\n",
       "      <td>0.000008</td>\n",
       "      <td>0.999896</td>\n",
       "      <td>0.01949</td>\n",
       "      <td>0.013162</td>\n",
       "      <td>0.067496</td>\n",
       "      <td>0.000091</td>\n",
       "      <td>1.0</td>\n",
       "      <td>0.013116</td>\n",
       "      <td>2.01383</td>\n",
       "      <td>0.019488</td>\n",
       "    </tr>\n",
       "  </tbody>\n",
       "</table>\n",
       "</div>"
      ],
      "text/plain": [
       "  Amplitude     Eta_e LinearTrend      Mean Meanvariance MedianAbsDev  \\\n",
       "0  0.038367  2.781633    0.000008  0.999896      0.01949     0.013162   \n",
       "\n",
       "  PercentAmplitude  PeriodLS Period_fit    Psi_CS  Psi_eta       Std  \n",
       "0         0.067496  0.000091        1.0  0.013116  2.01383  0.019488  "
      ]
     },
     "execution_count": 5,
     "metadata": {},
     "output_type": "execute_result"
    }
   ],
   "source": [
    "%%time\n",
    "fs = feets.FeatureSpace(data=['magnitude', 'time'], only=['Amplitude', 'Eta_e', 'LinearTrend', 'Mean', 'Meanvariance', 'MedianAbsDev', 'PercentAmplitude', 'PeriodLS', 'Period_fit', 'Psi_CS', 'Psi_eta', 'Std'])\n",
    "features, values = fs.extract(*lc_feets)\n",
    "table = pd.DataFrame(data=[values], columns=[features])\n",
    "table"
   ]
  },
  {
   "cell_type": "markdown",
   "metadata": {},
   "source": [
    "## Application with a test data set"
   ]
  },
  {
   "cell_type": "code",
   "execution_count": 14,
   "metadata": {},
   "outputs": [
    {
     "data": {
      "text/html": [
       "<div>\n",
       "<style scoped>\n",
       "    .dataframe tbody tr th:only-of-type {\n",
       "        vertical-align: middle;\n",
       "    }\n",
       "\n",
       "    .dataframe tbody tr th {\n",
       "        vertical-align: top;\n",
       "    }\n",
       "\n",
       "    .dataframe thead th {\n",
       "        text-align: right;\n",
       "    }\n",
       "</style>\n",
       "<table border=\"1\" class=\"dataframe\">\n",
       "  <thead>\n",
       "    <tr style=\"text-align: right;\">\n",
       "      <th></th>\n",
       "      <th>id</th>\n",
       "      <th>sector</th>\n",
       "    </tr>\n",
       "  </thead>\n",
       "  <tbody>\n",
       "    <tr>\n",
       "      <th>0</th>\n",
       "      <td>001152358</td>\n",
       "      <td>22</td>\n",
       "    </tr>\n",
       "    <tr>\n",
       "      <th>1</th>\n",
       "      <td>004289780</td>\n",
       "      <td>06</td>\n",
       "    </tr>\n",
       "    <tr>\n",
       "      <th>2</th>\n",
       "      <td>004289780</td>\n",
       "      <td>32</td>\n",
       "    </tr>\n",
       "    <tr>\n",
       "      <th>3</th>\n",
       "      <td>004373827</td>\n",
       "      <td>20</td>\n",
       "    </tr>\n",
       "    <tr>\n",
       "      <th>4</th>\n",
       "      <td>004373827</td>\n",
       "      <td>44</td>\n",
       "    </tr>\n",
       "    <tr>\n",
       "      <th>5</th>\n",
       "      <td>004373827</td>\n",
       "      <td>45</td>\n",
       "    </tr>\n",
       "    <tr>\n",
       "      <th>6</th>\n",
       "      <td>004373827</td>\n",
       "      <td>46</td>\n",
       "    </tr>\n",
       "    <tr>\n",
       "      <th>7</th>\n",
       "      <td>004373827</td>\n",
       "      <td>47</td>\n",
       "    </tr>\n",
       "    <tr>\n",
       "      <th>8</th>\n",
       "      <td>004373827</td>\n",
       "      <td>60</td>\n",
       "    </tr>\n",
       "    <tr>\n",
       "      <th>9</th>\n",
       "      <td>004491131</td>\n",
       "      <td>20</td>\n",
       "    </tr>\n",
       "  </tbody>\n",
       "</table>\n",
       "</div>"
      ],
      "text/plain": [
       "          id sector\n",
       "0  001152358     22\n",
       "1  004289780     06\n",
       "2  004289780     32\n",
       "3  004373827     20\n",
       "4  004373827     44\n",
       "5  004373827     45\n",
       "6  004373827     46\n",
       "7  004373827     47\n",
       "8  004373827     60\n",
       "9  004491131     20"
      ]
     },
     "execution_count": 14,
     "metadata": {},
     "output_type": "execute_result"
    }
   ],
   "source": [
    "input_dir = os.listdir('LC_test')\n",
    "\n",
    "dataframes = []\n",
    "\n",
    "for file in input_dir:\n",
    "    id_sec = file.split('.')[0] \n",
    "    id_name, sec_name = id_sec.split('_')\n",
    "\n",
    "    df_1 = pd.DataFrame([[id_name, sec_name]], columns=['id', 'sector'])\n",
    "    dataframes.append(df_1)\n",
    "\n",
    "df_final = pd.concat(dataframes, ignore_index=True)\n",
    "\n",
    "df_final"
   ]
  },
  {
   "cell_type": "code",
   "execution_count": null,
   "metadata": {},
   "outputs": [],
   "source": [
    "warnings.simplefilter(\"ignore\")\n",
    "\n",
    "# Charge the files\n",
    "df_class = pd.read_csv('TIC_Classes_List_v2.csv', sep=';')\n",
    "input_dir = os.listdir('LC_test')\n",
    "\n",
    "# Create a longtable with the features from feets\n",
    "table = []\n",
    "\n",
    "for file in input_dir:\n",
    "    df = pd.read_csv(f'LC_test/{file}', sep=' ', header=None, names=['time', 'flux'])\n",
    "    time, flux = (df.time, df.flux)\n",
    "    lc_feets = [time, flux]\n",
    "\n",
    "    fs = feets.FeatureSpace(data=['magnitude', 'time'], only=['Amplitude', 'Eta_e', 'LinearTrend', 'Mean', 'Meanvariance', 'MedianAbsDev', 'PercentAmplitude', 'PeriodLS', 'Period_fit', 'Psi_CS', 'Psi_eta', 'Std'])\n",
    "    features, values = fs.extract(*lc_feets)\n",
    "\n",
    "    id_sec = file.split('.')[0] \n",
    "    id_name, sec_name = id_sec.split('_')\n",
    "\n",
    "    df_1 = pd.DataFrame(data=[[id_name, sec_name, *values]], columns=['id', 'sector']+list(features))\n",
    "    table.append(df_1)\n",
    "\n",
    "df_main = pd.concat(table, ignore_index=True)\n",
    "\n",
    "# Create a second DF with the classes from df_class file and merge to df_main\n",
    "old_column_name = df_class.columns[0]\n",
    "df_class.rename(columns={old_column_name: 'id'}, inplace=True)\n",
    "\n",
    "df_main['id'] = df_main['id'].astype(str)\n",
    "df_class['id'] = df_class['id'].astype(str)\n",
    "\n",
    "feets_final_table = df_main.merge(df_class, on='id', how='left')\n",
    "print(feets_final_table)\n",
    "\n",
    "feets_final_table.to_csv('feets_full_table_exemple.csv', sep=';', index=False)"
   ]
  },
  {
   "cell_type": "code",
   "execution_count": null,
   "metadata": {},
   "outputs": [],
   "source": [
    "def feets_table_generation(input_folder, input_file):\n",
    "    warnings.simplefilter(\"ignore\")\n",
    "\n",
    "    df_class = pd.read_csv(input_file, sep=';')\n",
    "    input_dir = os.listdir(input_folder)\n",
    "\n",
    "    table = []\n",
    "\n",
    "    for file in input_dir:\n",
    "        df = pd.read_csv(f'LC_test/{file}', sep=' ', header=None, names=['time', 'flux'])\n",
    "        time, flux = (df.time, df.flux)\n",
    "        lc_feets = [time, flux]\n",
    "\n",
    "        fs = feets.FeatureSpace(data=['magnitude', 'time'], only=['Amplitude', 'Eta_e', 'LinearTrend', 'Mean', 'Meanvariance', 'MedianAbsDev', 'PercentAmplitude', 'PeriodLS', 'Period_fit', 'Psi_CS', 'Psi_eta', 'Std'])\n",
    "        features, values = fs.extract(*lc_feets)\n",
    "\n",
    "        id_sec = file.split('.')[0] \n",
    "        id_name, sec_name = id_sec.split('_')\n",
    "\n",
    "        df_1 = pd.DataFrame(data=[[id_name, sec_name, *values]], columns=['id', 'sector']+list(features))\n",
    "        table.append(df_1)\n",
    "\n",
    "    df_main = pd.concat(table, ignore_index=True)\n",
    "\n",
    "    # Create a second DF with the classes from df_class file and merge to df_main\n",
    "    old_column_name = df_class.columns[0]\n",
    "    df_class.rename(columns={old_column_name: 'id'}, inplace=True)\n",
    "\n",
    "    df_main['id'] = df_main['id'].astype(str)\n",
    "    df_class['id'] = df_class['id'].astype(str)\n",
    "\n",
    "    feets_final_table = df_main.merge(df_class, on='id', how='left')\n",
    "\n",
    "    feets_final_table.to_csv('feets_full_table_exemple.csv', sep=';', index=False)\n"
   ]
  },
  {
   "cell_type": "code",
   "execution_count": 3,
   "metadata": {},
   "outputs": [
    {
     "name": "stderr",
     "output_type": "stream",
     "text": [
      "WARNING: AstropyDeprecationWarning: Importing LombScargle from astropy.stats has been deprecated and will no longer be supported in future. Please import this class from the astropy.timeseries module instead [astropy.stats.lombscargle]\n",
      "WARNING: AstropyDeprecationWarning: Importing LombScargle from astropy.stats has been deprecated and will no longer be supported in future. Please import this class from the astropy.timeseries module instead [astropy.stats.lombscargle]\n",
      "WARNING: AstropyDeprecationWarning: Importing LombScargle from astropy.stats has been deprecated and will no longer be supported in future. Please import this class from the astropy.timeseries module instead [astropy.stats.lombscargle]\n",
      "WARNING: AstropyDeprecationWarning: Importing LombScargle from astropy.stats has been deprecated and will no longer be supported in future. Please import this class from the astropy.timeseries module instead [astropy.stats.lombscargle]\n",
      "WARNING: AstropyDeprecationWarning: Importing LombScargle from astropy.stats has been deprecated and will no longer be supported in future. Please import this class from the astropy.timeseries module instead [astropy.stats.lombscargle]\n",
      "WARNING: AstropyDeprecationWarning: Importing LombScargle from astropy.stats has been deprecated and will no longer be supported in future. Please import this class from the astropy.timeseries module instead [astropy.stats.lombscargle]\n",
      "WARNING: AstropyDeprecationWarning: Importing LombScargle from astropy.stats has been deprecated and will no longer be supported in future. Please import this class from the astropy.timeseries module instead [astropy.stats.lombscargle]\n",
      "WARNING: AstropyDeprecationWarning: Importing LombScargle from astropy.stats has been deprecated and will no longer be supported in future. Please import this class from the astropy.timeseries module instead [astropy.stats.lombscargle]\n",
      "WARNING: AstropyDeprecationWarning: Importing LombScargle from astropy.stats has been deprecated and will no longer be supported in future. Please import this class from the astropy.timeseries module instead [astropy.stats.lombscargle]\n",
      "WARNING: AstropyDeprecationWarning: Importing LombScargle from astropy.stats has been deprecated and will no longer be supported in future. Please import this class from the astropy.timeseries module instead [astropy.stats.lombscargle]\n"
     ]
    }
   ],
   "source": [
    "input_folder = input('Insert folder full adress: ')\n",
    "input_file = input('Insert file full adress: ')\n",
    "\n",
    "feets_table_generation(input_folder, input_file)"
   ]
  },
  {
   "cell_type": "code",
   "execution_count": null,
   "metadata": {},
   "outputs": [],
   "source": []
  }
 ],
 "metadata": {
  "kernelspec": {
   "display_name": "base",
   "language": "python",
   "name": "python3"
  },
  "language_info": {
   "codemirror_mode": {
    "name": "ipython",
    "version": 3
   },
   "file_extension": ".py",
   "mimetype": "text/x-python",
   "name": "python",
   "nbconvert_exporter": "python",
   "pygments_lexer": "ipython3",
   "version": "3.9.13"
  }
 },
 "nbformat": 4,
 "nbformat_minor": 2
}
