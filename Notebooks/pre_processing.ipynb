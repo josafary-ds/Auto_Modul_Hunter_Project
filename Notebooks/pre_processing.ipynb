{
 "cells": [
  {
   "cell_type": "code",
   "execution_count": null,
   "metadata": {},
   "outputs": [],
   "source": [
    "import pandas as pd\n",
    "import numpy as np\n",
    "from sklearn.preprocessing import StandardScaler\n",
    "from sklearn.impute import SimpleImputer\n",
    "from sklearn.preprocessing import LabelEncoder\n",
    "from sklearn.model_selection import train_test_split\n",
    "import pickle"
   ]
  },
  {
   "cell_type": "code",
   "execution_count": 53,
   "metadata": {},
   "outputs": [
    {
     "data": {
      "text/html": [
       "<div>\n",
       "<style scoped>\n",
       "    .dataframe tbody tr th:only-of-type {\n",
       "        vertical-align: middle;\n",
       "    }\n",
       "\n",
       "    .dataframe tbody tr th {\n",
       "        vertical-align: top;\n",
       "    }\n",
       "\n",
       "    .dataframe thead th {\n",
       "        text-align: right;\n",
       "    }\n",
       "</style>\n",
       "<table border=\"1\" class=\"dataframe\">\n",
       "  <thead>\n",
       "    <tr style=\"text-align: right;\">\n",
       "      <th></th>\n",
       "      <th>id</th>\n",
       "      <th>sector</th>\n",
       "      <th>Amplitude</th>\n",
       "      <th>Eta_e</th>\n",
       "      <th>LinearTrend</th>\n",
       "      <th>Mean</th>\n",
       "      <th>Meanvariance</th>\n",
       "      <th>MedianAbsDev</th>\n",
       "      <th>PercentAmplitude</th>\n",
       "      <th>PeriodLS</th>\n",
       "      <th>Period_fit</th>\n",
       "      <th>Psi_CS</th>\n",
       "      <th>Psi_eta</th>\n",
       "      <th>Std</th>\n",
       "      <th>Class</th>\n",
       "    </tr>\n",
       "  </thead>\n",
       "  <tbody>\n",
       "    <tr>\n",
       "      <th>0</th>\n",
       "      <td>1152358</td>\n",
       "      <td>22</td>\n",
       "      <td>0.038367</td>\n",
       "      <td>2.781633</td>\n",
       "      <td>8.398356e-06</td>\n",
       "      <td>0.999896</td>\n",
       "      <td>0.019490</td>\n",
       "      <td>0.013162</td>\n",
       "      <td>0.067496</td>\n",
       "      <td>0.000091</td>\n",
       "      <td>1.000000</td>\n",
       "      <td>0.013116</td>\n",
       "      <td>2.013830</td>\n",
       "      <td>0.019488</td>\n",
       "      <td>Noisy</td>\n",
       "    </tr>\n",
       "    <tr>\n",
       "      <th>1</th>\n",
       "      <td>4289780</td>\n",
       "      <td>6</td>\n",
       "      <td>0.003984</td>\n",
       "      <td>0.027998</td>\n",
       "      <td>-2.574445e-06</td>\n",
       "      <td>1.000369</td>\n",
       "      <td>0.002672</td>\n",
       "      <td>0.002411</td>\n",
       "      <td>0.006699</td>\n",
       "      <td>0.853793</td>\n",
       "      <td>0.000000</td>\n",
       "      <td>0.230237</td>\n",
       "      <td>0.050262</td>\n",
       "      <td>0.002673</td>\n",
       "      <td>Modul</td>\n",
       "    </tr>\n",
       "    <tr>\n",
       "      <th>2</th>\n",
       "      <td>4289780</td>\n",
       "      <td>32</td>\n",
       "      <td>0.004005</td>\n",
       "      <td>0.026885</td>\n",
       "      <td>3.039774e-06</td>\n",
       "      <td>1.000378</td>\n",
       "      <td>0.002702</td>\n",
       "      <td>0.002441</td>\n",
       "      <td>0.006885</td>\n",
       "      <td>0.854841</td>\n",
       "      <td>0.000000</td>\n",
       "      <td>0.233032</td>\n",
       "      <td>0.037314</td>\n",
       "      <td>0.002703</td>\n",
       "      <td>Modul</td>\n",
       "    </tr>\n",
       "    <tr>\n",
       "      <th>3</th>\n",
       "      <td>4373827</td>\n",
       "      <td>20</td>\n",
       "      <td>0.065865</td>\n",
       "      <td>2.627467</td>\n",
       "      <td>-1.699160e-05</td>\n",
       "      <td>0.999851</td>\n",
       "      <td>0.033532</td>\n",
       "      <td>0.022580</td>\n",
       "      <td>0.117115</td>\n",
       "      <td>0.000043</td>\n",
       "      <td>1.000000</td>\n",
       "      <td>0.019476</td>\n",
       "      <td>1.983205</td>\n",
       "      <td>0.033527</td>\n",
       "      <td>Noisy</td>\n",
       "    </tr>\n",
       "    <tr>\n",
       "      <th>4</th>\n",
       "      <td>4373827</td>\n",
       "      <td>44</td>\n",
       "      <td>0.070649</td>\n",
       "      <td>2.481889</td>\n",
       "      <td>3.691981e-05</td>\n",
       "      <td>1.000068</td>\n",
       "      <td>0.035810</td>\n",
       "      <td>0.024006</td>\n",
       "      <td>0.123233</td>\n",
       "      <td>0.000106</td>\n",
       "      <td>1.000000</td>\n",
       "      <td>0.015542</td>\n",
       "      <td>2.024841</td>\n",
       "      <td>0.035813</td>\n",
       "      <td>Noisy</td>\n",
       "    </tr>\n",
       "    <tr>\n",
       "      <th>5</th>\n",
       "      <td>4373827</td>\n",
       "      <td>45</td>\n",
       "      <td>0.062061</td>\n",
       "      <td>2.524782</td>\n",
       "      <td>-1.545700e-05</td>\n",
       "      <td>1.000097</td>\n",
       "      <td>0.031706</td>\n",
       "      <td>0.021571</td>\n",
       "      <td>0.109070</td>\n",
       "      <td>0.000040</td>\n",
       "      <td>0.999997</td>\n",
       "      <td>0.016329</td>\n",
       "      <td>1.981143</td>\n",
       "      <td>0.031709</td>\n",
       "      <td>Noisy</td>\n",
       "    </tr>\n",
       "    <tr>\n",
       "      <th>6</th>\n",
       "      <td>4373827</td>\n",
       "      <td>46</td>\n",
       "      <td>0.060725</td>\n",
       "      <td>2.504261</td>\n",
       "      <td>2.451540e-06</td>\n",
       "      <td>1.000440</td>\n",
       "      <td>0.031051</td>\n",
       "      <td>0.020825</td>\n",
       "      <td>0.108453</td>\n",
       "      <td>0.000040</td>\n",
       "      <td>1.000000</td>\n",
       "      <td>0.013413</td>\n",
       "      <td>1.995121</td>\n",
       "      <td>0.031064</td>\n",
       "      <td>Noisy</td>\n",
       "    </tr>\n",
       "    <tr>\n",
       "      <th>7</th>\n",
       "      <td>4373827</td>\n",
       "      <td>47</td>\n",
       "      <td>0.068740</td>\n",
       "      <td>2.602666</td>\n",
       "      <td>2.811777e-06</td>\n",
       "      <td>0.999550</td>\n",
       "      <td>0.035040</td>\n",
       "      <td>0.023848</td>\n",
       "      <td>0.122027</td>\n",
       "      <td>0.000036</td>\n",
       "      <td>1.000000</td>\n",
       "      <td>0.014799</td>\n",
       "      <td>1.978180</td>\n",
       "      <td>0.035024</td>\n",
       "      <td>Noisy</td>\n",
       "    </tr>\n",
       "    <tr>\n",
       "      <th>8</th>\n",
       "      <td>4373827</td>\n",
       "      <td>60</td>\n",
       "      <td>0.071001</td>\n",
       "      <td>3.407248</td>\n",
       "      <td>-6.563091e-05</td>\n",
       "      <td>1.000195</td>\n",
       "      <td>0.035988</td>\n",
       "      <td>0.024467</td>\n",
       "      <td>0.125629</td>\n",
       "      <td>0.000107</td>\n",
       "      <td>0.000000</td>\n",
       "      <td>0.023045</td>\n",
       "      <td>1.994281</td>\n",
       "      <td>0.035995</td>\n",
       "      <td>Noisy</td>\n",
       "    </tr>\n",
       "    <tr>\n",
       "      <th>9</th>\n",
       "      <td>4491131</td>\n",
       "      <td>20</td>\n",
       "      <td>0.068080</td>\n",
       "      <td>0.857899</td>\n",
       "      <td>-6.655137e-07</td>\n",
       "      <td>1.001776</td>\n",
       "      <td>0.037168</td>\n",
       "      <td>0.028319</td>\n",
       "      <td>0.125210</td>\n",
       "      <td>0.230257</td>\n",
       "      <td>0.000000</td>\n",
       "      <td>0.187549</td>\n",
       "      <td>0.665165</td>\n",
       "      <td>0.037234</td>\n",
       "      <td>Modul</td>\n",
       "    </tr>\n",
       "    <tr>\n",
       "      <th>10</th>\n",
       "      <td>4491131</td>\n",
       "      <td>44</td>\n",
       "      <td>0.062298</td>\n",
       "      <td>0.781291</td>\n",
       "      <td>-1.159845e-06</td>\n",
       "      <td>1.002120</td>\n",
       "      <td>0.034044</td>\n",
       "      <td>0.026250</td>\n",
       "      <td>0.107887</td>\n",
       "      <td>0.230279</td>\n",
       "      <td>0.000000</td>\n",
       "      <td>0.188043</td>\n",
       "      <td>0.638303</td>\n",
       "      <td>0.034116</td>\n",
       "      <td>Modul</td>\n",
       "    </tr>\n",
       "    <tr>\n",
       "      <th>11</th>\n",
       "      <td>4491131</td>\n",
       "      <td>45</td>\n",
       "      <td>0.060824</td>\n",
       "      <td>0.846675</td>\n",
       "      <td>3.452183e-05</td>\n",
       "      <td>1.001818</td>\n",
       "      <td>0.033298</td>\n",
       "      <td>0.025600</td>\n",
       "      <td>0.107348</td>\n",
       "      <td>0.230361</td>\n",
       "      <td>0.000000</td>\n",
       "      <td>0.186518</td>\n",
       "      <td>0.671710</td>\n",
       "      <td>0.033359</td>\n",
       "      <td>Modul</td>\n",
       "    </tr>\n",
       "    <tr>\n",
       "      <th>12</th>\n",
       "      <td>4491131</td>\n",
       "      <td>46</td>\n",
       "      <td>0.060966</td>\n",
       "      <td>0.719804</td>\n",
       "      <td>7.748208e-06</td>\n",
       "      <td>1.001973</td>\n",
       "      <td>0.033911</td>\n",
       "      <td>0.026587</td>\n",
       "      <td>0.116985</td>\n",
       "      <td>0.230377</td>\n",
       "      <td>0.000000</td>\n",
       "      <td>0.193273</td>\n",
       "      <td>0.598218</td>\n",
       "      <td>0.033978</td>\n",
       "      <td>Modul</td>\n",
       "    </tr>\n",
       "    <tr>\n",
       "      <th>13</th>\n",
       "      <td>4491131</td>\n",
       "      <td>60</td>\n",
       "      <td>0.064176</td>\n",
       "      <td>1.163931</td>\n",
       "      <td>-3.874144e-05</td>\n",
       "      <td>1.001402</td>\n",
       "      <td>0.034504</td>\n",
       "      <td>0.026344</td>\n",
       "      <td>0.109495</td>\n",
       "      <td>0.230337</td>\n",
       "      <td>0.000000</td>\n",
       "      <td>0.191487</td>\n",
       "      <td>0.714854</td>\n",
       "      <td>0.034552</td>\n",
       "      <td>Modul</td>\n",
       "    </tr>\n",
       "  </tbody>\n",
       "</table>\n",
       "</div>"
      ],
      "text/plain": [
       "         id  sector  Amplitude     Eta_e   LinearTrend      Mean  \\\n",
       "0   1152358      22   0.038367  2.781633  8.398356e-06  0.999896   \n",
       "1   4289780       6   0.003984  0.027998 -2.574445e-06  1.000369   \n",
       "2   4289780      32   0.004005  0.026885  3.039774e-06  1.000378   \n",
       "3   4373827      20   0.065865  2.627467 -1.699160e-05  0.999851   \n",
       "4   4373827      44   0.070649  2.481889  3.691981e-05  1.000068   \n",
       "5   4373827      45   0.062061  2.524782 -1.545700e-05  1.000097   \n",
       "6   4373827      46   0.060725  2.504261  2.451540e-06  1.000440   \n",
       "7   4373827      47   0.068740  2.602666  2.811777e-06  0.999550   \n",
       "8   4373827      60   0.071001  3.407248 -6.563091e-05  1.000195   \n",
       "9   4491131      20   0.068080  0.857899 -6.655137e-07  1.001776   \n",
       "10  4491131      44   0.062298  0.781291 -1.159845e-06  1.002120   \n",
       "11  4491131      45   0.060824  0.846675  3.452183e-05  1.001818   \n",
       "12  4491131      46   0.060966  0.719804  7.748208e-06  1.001973   \n",
       "13  4491131      60   0.064176  1.163931 -3.874144e-05  1.001402   \n",
       "\n",
       "    Meanvariance  MedianAbsDev  PercentAmplitude  PeriodLS  Period_fit  \\\n",
       "0       0.019490      0.013162          0.067496  0.000091    1.000000   \n",
       "1       0.002672      0.002411          0.006699  0.853793    0.000000   \n",
       "2       0.002702      0.002441          0.006885  0.854841    0.000000   \n",
       "3       0.033532      0.022580          0.117115  0.000043    1.000000   \n",
       "4       0.035810      0.024006          0.123233  0.000106    1.000000   \n",
       "5       0.031706      0.021571          0.109070  0.000040    0.999997   \n",
       "6       0.031051      0.020825          0.108453  0.000040    1.000000   \n",
       "7       0.035040      0.023848          0.122027  0.000036    1.000000   \n",
       "8       0.035988      0.024467          0.125629  0.000107    0.000000   \n",
       "9       0.037168      0.028319          0.125210  0.230257    0.000000   \n",
       "10      0.034044      0.026250          0.107887  0.230279    0.000000   \n",
       "11      0.033298      0.025600          0.107348  0.230361    0.000000   \n",
       "12      0.033911      0.026587          0.116985  0.230377    0.000000   \n",
       "13      0.034504      0.026344          0.109495  0.230337    0.000000   \n",
       "\n",
       "      Psi_CS   Psi_eta       Std  Class  \n",
       "0   0.013116  2.013830  0.019488  Noisy  \n",
       "1   0.230237  0.050262  0.002673  Modul  \n",
       "2   0.233032  0.037314  0.002703  Modul  \n",
       "3   0.019476  1.983205  0.033527  Noisy  \n",
       "4   0.015542  2.024841  0.035813  Noisy  \n",
       "5   0.016329  1.981143  0.031709  Noisy  \n",
       "6   0.013413  1.995121  0.031064  Noisy  \n",
       "7   0.014799  1.978180  0.035024  Noisy  \n",
       "8   0.023045  1.994281  0.035995  Noisy  \n",
       "9   0.187549  0.665165  0.037234  Modul  \n",
       "10  0.188043  0.638303  0.034116  Modul  \n",
       "11  0.186518  0.671710  0.033359  Modul  \n",
       "12  0.193273  0.598218  0.033978  Modul  \n",
       "13  0.191487  0.714854  0.034552  Modul  "
      ]
     },
     "execution_count": 53,
     "metadata": {},
     "output_type": "execute_result"
    }
   ],
   "source": [
    "file = pd.read_csv('../feets_full_table.csv', sep=';')\n",
    "file.head(14)"
   ]
  },
  {
   "cell_type": "code",
   "execution_count": 42,
   "metadata": {},
   "outputs": [
    {
     "data": {
      "text/html": [
       "<div>\n",
       "<style scoped>\n",
       "    .dataframe tbody tr th:only-of-type {\n",
       "        vertical-align: middle;\n",
       "    }\n",
       "\n",
       "    .dataframe tbody tr th {\n",
       "        vertical-align: top;\n",
       "    }\n",
       "\n",
       "    .dataframe thead th {\n",
       "        text-align: right;\n",
       "    }\n",
       "</style>\n",
       "<table border=\"1\" class=\"dataframe\">\n",
       "  <thead>\n",
       "    <tr style=\"text-align: right;\">\n",
       "      <th></th>\n",
       "      <th>id</th>\n",
       "      <th>sector</th>\n",
       "      <th>Amplitude</th>\n",
       "      <th>Eta_e</th>\n",
       "      <th>LinearTrend</th>\n",
       "      <th>Mean</th>\n",
       "      <th>Meanvariance</th>\n",
       "      <th>MedianAbsDev</th>\n",
       "      <th>PercentAmplitude</th>\n",
       "      <th>PeriodLS</th>\n",
       "      <th>Period_fit</th>\n",
       "      <th>Psi_CS</th>\n",
       "      <th>Psi_eta</th>\n",
       "      <th>Std</th>\n",
       "    </tr>\n",
       "    <tr>\n",
       "      <th>Class</th>\n",
       "      <th></th>\n",
       "      <th></th>\n",
       "      <th></th>\n",
       "      <th></th>\n",
       "      <th></th>\n",
       "      <th></th>\n",
       "      <th></th>\n",
       "      <th></th>\n",
       "      <th></th>\n",
       "      <th></th>\n",
       "      <th></th>\n",
       "      <th></th>\n",
       "      <th></th>\n",
       "      <th></th>\n",
       "    </tr>\n",
       "  </thead>\n",
       "  <tbody>\n",
       "    <tr>\n",
       "      <th>Modul</th>\n",
       "      <td>1115</td>\n",
       "      <td>1115</td>\n",
       "      <td>1115</td>\n",
       "      <td>1115</td>\n",
       "      <td>1115</td>\n",
       "      <td>1115</td>\n",
       "      <td>1115</td>\n",
       "      <td>1115</td>\n",
       "      <td>1115</td>\n",
       "      <td>1115</td>\n",
       "      <td>1113</td>\n",
       "      <td>1115</td>\n",
       "      <td>1115</td>\n",
       "      <td>1115</td>\n",
       "    </tr>\n",
       "    <tr>\n",
       "      <th>Noisy</th>\n",
       "      <td>1717</td>\n",
       "      <td>1717</td>\n",
       "      <td>1717</td>\n",
       "      <td>1717</td>\n",
       "      <td>1717</td>\n",
       "      <td>1717</td>\n",
       "      <td>1717</td>\n",
       "      <td>1717</td>\n",
       "      <td>1717</td>\n",
       "      <td>1717</td>\n",
       "      <td>1713</td>\n",
       "      <td>1717</td>\n",
       "      <td>1717</td>\n",
       "      <td>1717</td>\n",
       "    </tr>\n",
       "  </tbody>\n",
       "</table>\n",
       "</div>"
      ],
      "text/plain": [
       "         id  sector  Amplitude  Eta_e  LinearTrend  Mean  Meanvariance  \\\n",
       "Class                                                                    \n",
       "Modul  1115    1115       1115   1115         1115  1115          1115   \n",
       "Noisy  1717    1717       1717   1717         1717  1717          1717   \n",
       "\n",
       "       MedianAbsDev  PercentAmplitude  PeriodLS  Period_fit  Psi_CS  Psi_eta  \\\n",
       "Class                                                                          \n",
       "Modul          1115              1115      1115        1113    1115     1115   \n",
       "Noisy          1717              1717      1717        1713    1717     1717   \n",
       "\n",
       "        Std  \n",
       "Class        \n",
       "Modul  1115  \n",
       "Noisy  1717  "
      ]
     },
     "execution_count": 42,
     "metadata": {},
     "output_type": "execute_result"
    }
   ],
   "source": [
    "group = file.groupby('Class')\n",
    "group.count()"
   ]
  },
  {
   "cell_type": "code",
   "execution_count": 60,
   "metadata": {},
   "outputs": [
    {
     "data": {
      "text/plain": [
       "'l'"
      ]
     },
     "execution_count": 60,
     "metadata": {},
     "output_type": "execute_result"
    }
   ],
   "source": [
    "file['Class'][13][-1]"
   ]
  },
  {
   "cell_type": "markdown",
   "metadata": {},
   "source": [
    "## Predictors and Class"
   ]
  },
  {
   "cell_type": "code",
   "execution_count": 29,
   "metadata": {},
   "outputs": [],
   "source": [
    "x_feets = file.iloc[:, 2:14].values\n",
    "y_feets = file.iloc[:, 14].values\n",
    "#y_feets = y_feets.reshape(-1, 1)"
   ]
  },
  {
   "cell_type": "code",
   "execution_count": 30,
   "metadata": {},
   "outputs": [
    {
     "name": "stdout",
     "output_type": "stream",
     "text": [
      "(3202, 12) <class 'numpy.ndarray'>\n"
     ]
    }
   ],
   "source": [
    "print(x_feets.shape, type(x_feets))"
   ]
  },
  {
   "cell_type": "code",
   "execution_count": 31,
   "metadata": {},
   "outputs": [
    {
     "name": "stdout",
     "output_type": "stream",
     "text": [
      "(3202,) <class 'numpy.ndarray'>\n"
     ]
    }
   ],
   "source": [
    "print(y_feets.shape, type(y_feets))"
   ]
  },
  {
   "cell_type": "code",
   "execution_count": 32,
   "metadata": {},
   "outputs": [
    {
     "data": {
      "text/plain": [
       "array(['Noisy', 'Modul', 'Modul', ..., 'Modul', 'Modul', 'Modul'],\n",
       "      shape=(3202,), dtype=object)"
      ]
     },
     "execution_count": 32,
     "metadata": {},
     "output_type": "execute_result"
    }
   ],
   "source": [
    "y_feets"
   ]
  },
  {
   "cell_type": "markdown",
   "metadata": {},
   "source": [
    "## Attribute scaling"
   ]
  },
  {
   "cell_type": "code",
   "execution_count": 33,
   "metadata": {},
   "outputs": [
    {
     "name": "stdout",
     "output_type": "stream",
     "text": [
      "There is 5 infinity values\n"
     ]
    }
   ],
   "source": [
    "# Verifying infinity values\n",
    "\n",
    "print(f'There is {np.isinf(x_feets).sum()} infinity values')"
   ]
  },
  {
   "cell_type": "code",
   "execution_count": 34,
   "metadata": {},
   "outputs": [
    {
     "name": "stdout",
     "output_type": "stream",
     "text": [
      "There is 0 infinity values\n"
     ]
    }
   ],
   "source": [
    "# Replacing inf values to nan and checking\n",
    "\n",
    "x_feets = np.where(np.isinf(x_feets), np.nan, x_feets)\n",
    "\n",
    "print(f'There is {np.isinf(x_feets).sum()} infinity values')"
   ]
  },
  {
   "cell_type": "code",
   "execution_count": 35,
   "metadata": {},
   "outputs": [],
   "source": [
    "# Treating infinity values\n",
    "\n",
    "imputer = SimpleImputer(strategy='median')\n",
    "x_feets = imputer.fit_transform(x_feets)"
   ]
  },
  {
   "cell_type": "code",
   "execution_count": 36,
   "metadata": {},
   "outputs": [],
   "source": [
    "scaler_feets = StandardScaler()\n",
    "\n",
    "x_feets = scaler_feets.fit_transform(x_feets)"
   ]
  },
  {
   "cell_type": "code",
   "execution_count": 14,
   "metadata": {},
   "outputs": [
    {
     "name": "stdout",
     "output_type": "stream",
     "text": [
      "Valores máximos: 43.94946935951369\n",
      "Valores mínimos: -27.95905210699225\n"
     ]
    }
   ],
   "source": [
    "print(f'Valores máximos: {np.max(x_feets)}')\n",
    "print(f'Valores mínimos: {np.min(x_feets)}')"
   ]
  },
  {
   "cell_type": "markdown",
   "metadata": {},
   "source": [
    "## LabelEncoder"
   ]
  },
  {
   "cell_type": "code",
   "execution_count": 45,
   "metadata": {},
   "outputs": [
    {
     "data": {
      "text/plain": [
       "array([1, 0, 0, ..., 0, 0, 0], shape=(3202,))"
      ]
     },
     "execution_count": 45,
     "metadata": {},
     "output_type": "execute_result"
    }
   ],
   "source": [
    "encoder = LabelEncoder()\n",
    "y_feets = encoder.fit_transform(y_feets)\n",
    "y_feets"
   ]
  },
  {
   "cell_type": "code",
   "execution_count": 49,
   "metadata": {},
   "outputs": [
    {
     "name": "stdout",
     "output_type": "stream",
     "text": [
      "[0 1 2]\n",
      "[0 1 2]\n"
     ]
    }
   ],
   "source": [
    "print(encoder.classes_)\n",
    "print(np.unique(y_feets))"
   ]
  },
  {
   "cell_type": "markdown",
   "metadata": {},
   "source": [
    "## Training and test basis"
   ]
  },
  {
   "cell_type": "code",
   "execution_count": 38,
   "metadata": {},
   "outputs": [],
   "source": [
    "x_feets_training, x_feets_test, y_feets_training, y_feets_test = train_test_split(x_feets, y_feets, test_size=0.25, random_state=0)"
   ]
  },
  {
   "cell_type": "code",
   "execution_count": 39,
   "metadata": {},
   "outputs": [
    {
     "data": {
      "text/plain": [
       "((2401, 12), (2401,))"
      ]
     },
     "execution_count": 39,
     "metadata": {},
     "output_type": "execute_result"
    }
   ],
   "source": [
    "x_feets_training.shape, y_feets_training.shape"
   ]
  },
  {
   "cell_type": "code",
   "execution_count": 40,
   "metadata": {},
   "outputs": [
    {
     "data": {
      "text/plain": [
       "((801, 12), (801,))"
      ]
     },
     "execution_count": 40,
     "metadata": {},
     "output_type": "execute_result"
    }
   ],
   "source": [
    "x_feets_test.shape, y_feets_test.shape"
   ]
  },
  {
   "cell_type": "markdown",
   "metadata": {},
   "source": [
    "## Saving the data"
   ]
  },
  {
   "cell_type": "code",
   "execution_count": 41,
   "metadata": {},
   "outputs": [],
   "source": [
    "with open('feets_data.pkl', mode='wb') as f:\n",
    "    pickle.dump([x_feets_training, x_feets_test, y_feets_training, y_feets_test], f)"
   ]
  },
  {
   "cell_type": "code",
   "execution_count": null,
   "metadata": {},
   "outputs": [],
   "source": []
  }
 ],
 "metadata": {
  "kernelspec": {
   "display_name": ".venv",
   "language": "python",
   "name": "python3"
  },
  "language_info": {
   "codemirror_mode": {
    "name": "ipython",
    "version": 3
   },
   "file_extension": ".py",
   "mimetype": "text/x-python",
   "name": "python",
   "nbconvert_exporter": "python",
   "pygments_lexer": "ipython3",
   "version": "3.12.0"
  }
 },
 "nbformat": 4,
 "nbformat_minor": 2
}
