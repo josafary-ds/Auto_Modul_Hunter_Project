{
 "cells": [
  {
   "cell_type": "code",
   "execution_count": 1,
   "metadata": {},
   "outputs": [],
   "source": [
    "import pandas as pd\n",
    "import numpy as np\n",
    "from sklearn.preprocessing import StandardScaler"
   ]
  },
  {
   "cell_type": "code",
   "execution_count": 7,
   "metadata": {},
   "outputs": [
    {
     "data": {
      "text/html": [
       "<div>\n",
       "<style scoped>\n",
       "    .dataframe tbody tr th:only-of-type {\n",
       "        vertical-align: middle;\n",
       "    }\n",
       "\n",
       "    .dataframe tbody tr th {\n",
       "        vertical-align: top;\n",
       "    }\n",
       "\n",
       "    .dataframe thead th {\n",
       "        text-align: right;\n",
       "    }\n",
       "</style>\n",
       "<table border=\"1\" class=\"dataframe\">\n",
       "  <thead>\n",
       "    <tr style=\"text-align: right;\">\n",
       "      <th></th>\n",
       "      <th>id</th>\n",
       "      <th>sector</th>\n",
       "      <th>Amplitude</th>\n",
       "      <th>Eta_e</th>\n",
       "      <th>LinearTrend</th>\n",
       "      <th>Mean</th>\n",
       "      <th>Meanvariance</th>\n",
       "      <th>MedianAbsDev</th>\n",
       "      <th>PercentAmplitude</th>\n",
       "      <th>PeriodLS</th>\n",
       "      <th>Period_fit</th>\n",
       "      <th>Psi_CS</th>\n",
       "      <th>Psi_eta</th>\n",
       "      <th>Std</th>\n",
       "      <th>Class</th>\n",
       "    </tr>\n",
       "  </thead>\n",
       "  <tbody>\n",
       "    <tr>\n",
       "      <th>0</th>\n",
       "      <td>1152358</td>\n",
       "      <td>22</td>\n",
       "      <td>0.038367</td>\n",
       "      <td>2.781633</td>\n",
       "      <td>0.000008</td>\n",
       "      <td>0.999896</td>\n",
       "      <td>0.019490</td>\n",
       "      <td>0.013162</td>\n",
       "      <td>0.067496</td>\n",
       "      <td>0.000091</td>\n",
       "      <td>1.0</td>\n",
       "      <td>0.013116</td>\n",
       "      <td>2.013830</td>\n",
       "      <td>0.019488</td>\n",
       "      <td>Noisy</td>\n",
       "    </tr>\n",
       "    <tr>\n",
       "      <th>1</th>\n",
       "      <td>4289780</td>\n",
       "      <td>6</td>\n",
       "      <td>0.003984</td>\n",
       "      <td>0.027998</td>\n",
       "      <td>-0.000003</td>\n",
       "      <td>1.000369</td>\n",
       "      <td>0.002672</td>\n",
       "      <td>0.002411</td>\n",
       "      <td>0.006699</td>\n",
       "      <td>0.853793</td>\n",
       "      <td>0.0</td>\n",
       "      <td>0.230237</td>\n",
       "      <td>0.050262</td>\n",
       "      <td>0.002673</td>\n",
       "      <td>Modul</td>\n",
       "    </tr>\n",
       "    <tr>\n",
       "      <th>2</th>\n",
       "      <td>4289780</td>\n",
       "      <td>32</td>\n",
       "      <td>0.004005</td>\n",
       "      <td>0.026885</td>\n",
       "      <td>0.000003</td>\n",
       "      <td>1.000378</td>\n",
       "      <td>0.002702</td>\n",
       "      <td>0.002441</td>\n",
       "      <td>0.006885</td>\n",
       "      <td>0.854841</td>\n",
       "      <td>0.0</td>\n",
       "      <td>0.233032</td>\n",
       "      <td>0.037314</td>\n",
       "      <td>0.002703</td>\n",
       "      <td>Modul</td>\n",
       "    </tr>\n",
       "    <tr>\n",
       "      <th>3</th>\n",
       "      <td>4373827</td>\n",
       "      <td>20</td>\n",
       "      <td>0.065865</td>\n",
       "      <td>2.627467</td>\n",
       "      <td>-0.000017</td>\n",
       "      <td>0.999851</td>\n",
       "      <td>0.033532</td>\n",
       "      <td>0.022580</td>\n",
       "      <td>0.117115</td>\n",
       "      <td>0.000043</td>\n",
       "      <td>1.0</td>\n",
       "      <td>0.019476</td>\n",
       "      <td>1.983205</td>\n",
       "      <td>0.033527</td>\n",
       "      <td>Noisy</td>\n",
       "    </tr>\n",
       "    <tr>\n",
       "      <th>4</th>\n",
       "      <td>4373827</td>\n",
       "      <td>44</td>\n",
       "      <td>0.070649</td>\n",
       "      <td>2.481889</td>\n",
       "      <td>0.000037</td>\n",
       "      <td>1.000068</td>\n",
       "      <td>0.035810</td>\n",
       "      <td>0.024006</td>\n",
       "      <td>0.123233</td>\n",
       "      <td>0.000106</td>\n",
       "      <td>1.0</td>\n",
       "      <td>0.015542</td>\n",
       "      <td>2.024841</td>\n",
       "      <td>0.035813</td>\n",
       "      <td>Noisy</td>\n",
       "    </tr>\n",
       "  </tbody>\n",
       "</table>\n",
       "</div>"
      ],
      "text/plain": [
       "        id  sector  Amplitude     Eta_e  LinearTrend      Mean  Meanvariance  \\\n",
       "0  1152358      22   0.038367  2.781633     0.000008  0.999896      0.019490   \n",
       "1  4289780       6   0.003984  0.027998    -0.000003  1.000369      0.002672   \n",
       "2  4289780      32   0.004005  0.026885     0.000003  1.000378      0.002702   \n",
       "3  4373827      20   0.065865  2.627467    -0.000017  0.999851      0.033532   \n",
       "4  4373827      44   0.070649  2.481889     0.000037  1.000068      0.035810   \n",
       "\n",
       "   MedianAbsDev  PercentAmplitude  PeriodLS  Period_fit    Psi_CS   Psi_eta  \\\n",
       "0      0.013162          0.067496  0.000091         1.0  0.013116  2.013830   \n",
       "1      0.002411          0.006699  0.853793         0.0  0.230237  0.050262   \n",
       "2      0.002441          0.006885  0.854841         0.0  0.233032  0.037314   \n",
       "3      0.022580          0.117115  0.000043         1.0  0.019476  1.983205   \n",
       "4      0.024006          0.123233  0.000106         1.0  0.015542  2.024841   \n",
       "\n",
       "        Std  Class  \n",
       "0  0.019488  Noisy  \n",
       "1  0.002673  Modul  \n",
       "2  0.002703  Modul  \n",
       "3  0.033527  Noisy  \n",
       "4  0.035813  Noisy  "
      ]
     },
     "execution_count": 7,
     "metadata": {},
     "output_type": "execute_result"
    }
   ],
   "source": [
    "file = pd.read_csv('feets_full_table.csv', sep=';')\n",
    "file.head()"
   ]
  },
  {
   "cell_type": "code",
   "execution_count": 5,
   "metadata": {},
   "outputs": [
    {
     "data": {
      "text/html": [
       "<div>\n",
       "<style scoped>\n",
       "    .dataframe tbody tr th:only-of-type {\n",
       "        vertical-align: middle;\n",
       "    }\n",
       "\n",
       "    .dataframe tbody tr th {\n",
       "        vertical-align: top;\n",
       "    }\n",
       "\n",
       "    .dataframe thead th {\n",
       "        text-align: right;\n",
       "    }\n",
       "</style>\n",
       "<table border=\"1\" class=\"dataframe\">\n",
       "  <thead>\n",
       "    <tr style=\"text-align: right;\">\n",
       "      <th></th>\n",
       "      <th>id</th>\n",
       "      <th>sector</th>\n",
       "      <th>Amplitude</th>\n",
       "      <th>Eta_e</th>\n",
       "      <th>LinearTrend</th>\n",
       "      <th>Mean</th>\n",
       "      <th>Meanvariance</th>\n",
       "      <th>MedianAbsDev</th>\n",
       "      <th>PercentAmplitude</th>\n",
       "      <th>PeriodLS</th>\n",
       "      <th>Period_fit</th>\n",
       "      <th>Psi_CS</th>\n",
       "      <th>Psi_eta</th>\n",
       "      <th>Std</th>\n",
       "    </tr>\n",
       "    <tr>\n",
       "      <th>Class</th>\n",
       "      <th></th>\n",
       "      <th></th>\n",
       "      <th></th>\n",
       "      <th></th>\n",
       "      <th></th>\n",
       "      <th></th>\n",
       "      <th></th>\n",
       "      <th></th>\n",
       "      <th></th>\n",
       "      <th></th>\n",
       "      <th></th>\n",
       "      <th></th>\n",
       "      <th></th>\n",
       "      <th></th>\n",
       "    </tr>\n",
       "  </thead>\n",
       "  <tbody>\n",
       "    <tr>\n",
       "      <th>Modul</th>\n",
       "      <td>1115</td>\n",
       "      <td>1115</td>\n",
       "      <td>1115</td>\n",
       "      <td>1115</td>\n",
       "      <td>1115</td>\n",
       "      <td>1115</td>\n",
       "      <td>1115</td>\n",
       "      <td>1115</td>\n",
       "      <td>1115</td>\n",
       "      <td>1115</td>\n",
       "      <td>1113</td>\n",
       "      <td>1115</td>\n",
       "      <td>1115</td>\n",
       "      <td>1115</td>\n",
       "    </tr>\n",
       "    <tr>\n",
       "      <th>Noisy</th>\n",
       "      <td>1717</td>\n",
       "      <td>1717</td>\n",
       "      <td>1717</td>\n",
       "      <td>1717</td>\n",
       "      <td>1717</td>\n",
       "      <td>1717</td>\n",
       "      <td>1717</td>\n",
       "      <td>1717</td>\n",
       "      <td>1717</td>\n",
       "      <td>1717</td>\n",
       "      <td>1713</td>\n",
       "      <td>1717</td>\n",
       "      <td>1717</td>\n",
       "      <td>1717</td>\n",
       "    </tr>\n",
       "  </tbody>\n",
       "</table>\n",
       "</div>"
      ],
      "text/plain": [
       "         id  sector  Amplitude  Eta_e  LinearTrend  Mean  Meanvariance  \\\n",
       "Class                                                                    \n",
       "Modul  1115    1115       1115   1115         1115  1115          1115   \n",
       "Noisy  1717    1717       1717   1717         1717  1717          1717   \n",
       "\n",
       "       MedianAbsDev  PercentAmplitude  PeriodLS  Period_fit  Psi_CS  Psi_eta  \\\n",
       "Class                                                                          \n",
       "Modul          1115              1115      1115        1113    1115     1115   \n",
       "Noisy          1717              1717      1717        1713    1717     1717   \n",
       "\n",
       "        Std  \n",
       "Class        \n",
       "Modul  1115  \n",
       "Noisy  1717  "
      ]
     },
     "execution_count": 5,
     "metadata": {},
     "output_type": "execute_result"
    }
   ],
   "source": [
    "group = file.groupby('Class')\n",
    "group.count()"
   ]
  },
  {
   "cell_type": "markdown",
   "metadata": {},
   "source": [
    "## Previsores e Classe"
   ]
  },
  {
   "cell_type": "code",
   "execution_count": 8,
   "metadata": {},
   "outputs": [],
   "source": [
    "x_feets = file.iloc[:, 2:14].values\n",
    "y_feets = file.iloc[:, 14].values"
   ]
  },
  {
   "cell_type": "code",
   "execution_count": 4,
   "metadata": {},
   "outputs": [
    {
     "name": "stdout",
     "output_type": "stream",
     "text": [
      "(3202, 12) <class 'numpy.ndarray'>\n"
     ]
    }
   ],
   "source": [
    "print(x_feets.shape, type(x_feets))"
   ]
  },
  {
   "cell_type": "code",
   "execution_count": 5,
   "metadata": {},
   "outputs": [
    {
     "name": "stdout",
     "output_type": "stream",
     "text": [
      "(3202,) <class 'numpy.ndarray'>\n"
     ]
    }
   ],
   "source": [
    "print(y_feets.shape, type(y_feets))"
   ]
  },
  {
   "cell_type": "markdown",
   "metadata": {},
   "source": [
    "## Escalonamento de atributos"
   ]
  },
  {
   "cell_type": "code",
   "execution_count": 9,
   "metadata": {},
   "outputs": [
    {
     "name": "stdout",
     "output_type": "stream",
     "text": [
      "There is 5 infinity values\n"
     ]
    }
   ],
   "source": [
    "# Verifying infinity values\n",
    "\n",
    "print(f'There is {np.isinf(x_feets).sum()} infinity values')"
   ]
  },
  {
   "cell_type": "code",
   "execution_count": 10,
   "metadata": {},
   "outputs": [
    {
     "name": "stdout",
     "output_type": "stream",
     "text": [
      "There is 0 infinity values\n"
     ]
    }
   ],
   "source": [
    "# Replacing inf values to nan and checking\n",
    "\n",
    "x_feets = np.where(np.isinf(x_feets), np.nan, x_feets)\n",
    "\n",
    "print(f'There is {np.isinf(x_feets).sum()} infinity values')"
   ]
  },
  {
   "cell_type": "code",
   "execution_count": 11,
   "metadata": {},
   "outputs": [],
   "source": [
    "# Treating infinity values\n",
    "\n",
    "from sklearn.impute import SimpleImputer\n",
    "\n",
    "imputer = SimpleImputer(strategy='median')\n",
    "x_feets = imputer.fit_transform(x_feets)"
   ]
  },
  {
   "cell_type": "code",
   "execution_count": 12,
   "metadata": {},
   "outputs": [],
   "source": [
    "scaler_feets = StandardScaler()\n",
    "\n",
    "x_feets = scaler_feets.fit_transform(x_feets)"
   ]
  },
  {
   "cell_type": "code",
   "execution_count": 13,
   "metadata": {},
   "outputs": [
    {
     "data": {
      "text/plain": [
       "array([[-0.09192561,  0.58349786,  0.06325733, ..., -0.85199125,\n",
       "         0.6644599 , -0.1106401 ],\n",
       "       [-0.6077315 , -1.46754641,  0.01052915, ...,  1.90823344,\n",
       "        -2.57659723, -0.57605019],\n",
       "       [-0.60740871, -1.46837541,  0.03750745, ...,  1.9437736 ,\n",
       "        -2.59796918, -0.57521458],\n",
       "       ...,\n",
       "       [-0.61114698, -1.32995874,  0.090101  , ...,  0.08188074,\n",
       "         0.22185614, -0.5965685 ],\n",
       "       [-0.60852507, -1.34819331,  0.02671018, ...,  1.02639171,\n",
       "        -0.18967706, -0.59646132],\n",
       "       [-0.60582134, -1.35077322, -0.04784398, ...,  1.0718758 ,\n",
       "        -0.29806753, -0.58915989]])"
      ]
     },
     "execution_count": 13,
     "metadata": {},
     "output_type": "execute_result"
    }
   ],
   "source": [
    "x_feets"
   ]
  },
  {
   "cell_type": "code",
   "execution_count": null,
   "metadata": {},
   "outputs": [],
   "source": []
  }
 ],
 "metadata": {
  "kernelspec": {
   "display_name": "base",
   "language": "python",
   "name": "python3"
  },
  "language_info": {
   "codemirror_mode": {
    "name": "ipython",
    "version": 3
   },
   "file_extension": ".py",
   "mimetype": "text/x-python",
   "name": "python",
   "nbconvert_exporter": "python",
   "pygments_lexer": "ipython3",
   "version": "3.12.4"
  }
 },
 "nbformat": 4,
 "nbformat_minor": 2
}
